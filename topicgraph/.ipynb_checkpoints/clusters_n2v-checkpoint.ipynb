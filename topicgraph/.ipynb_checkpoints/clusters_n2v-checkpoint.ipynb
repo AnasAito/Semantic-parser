{
 "cells": [
  {
   "cell_type": "code",
   "execution_count": 7,
   "metadata": {},
   "outputs": [],
   "source": [
    "import networkx as nx\n",
    "import json\n",
    "import pandas as pd\n",
    "import numpy as np \n",
    "from sklearn.cluster import KMeans\n",
    "import numpy as np\n",
    "from networkx.readwrite import json_graph\n",
    "import json\n",
    "from sklearn.manifold import TSNE\n",
    "import plotly.express as px\n",
    "\n",
    "from node2vec import Node2Vec"
   ]
  },
  {
   "cell_type": "code",
   "execution_count": 2,
   "metadata": {},
   "outputs": [],
   "source": [
    "with open('./UM6P final graph.json') as json_file:\n",
    "    data = json.load(json_file)\n",
    "    graph = nx.node_link_graph(data)"
   ]
  },
  {
   "cell_type": "code",
   "execution_count": 8,
   "metadata": {},
   "outputs": [],
   "source": [
    "def get_similarity(graph,model,topic,topics):\n",
    "\n",
    "    conn=[]\n",
    "\n",
    "    for node in graph.nodes : \n",
    "        if node in topics:\n",
    "            pass\n",
    "\n",
    "        else :\n",
    "        \n",
    "            try : \n",
    "                w =  model.wv.distance(topic,node)\n",
    "                conn.append(w)\n",
    "                ##conn_index.append(node)\n",
    "            except :\n",
    "                conn.append(1000)\n",
    "    return conn\n",
    "\n",
    "def get_df(graph,model,topics):\n",
    "    dict_values={}\n",
    "   # topics = ['plant','waste','battery','soil']\n",
    "    for topic in topics : \n",
    "        print('-------------')\n",
    "        print(topic)\n",
    "        value_list = get_similarity(graph,model,topic,topics)\n",
    "        ##normed = (np.array(value_list) - min(value_list))/(max(value_list)-min(value_list))\n",
    "        dict_values[topic] = value_list \n",
    "    filtred = [node for node in graph.nodes if node not in topics]   \n",
    "    df = pd.DataFrame(data=dict_values).set_index([pd.Index(filtred)])\n",
    "    return df\n",
    "\n",
    "\n",
    "\n",
    "\n",
    "\n",
    "def add_communities(graph,df,topics):\n",
    "    dict_ = {}\n",
    "    for topic in topics :\n",
    "        dict_[topic] =[]\n",
    "        \n",
    "    \n",
    "    for node in graph.nodes:\n",
    "        if node in topics:\n",
    "            group = -1\n",
    "        else :\n",
    "            row = df.loc[ node , : ]\n",
    "            values = list(row)\n",
    "            min_index = values.index(min(values)) \n",
    "            dict_[topics[min_index]].append(node)\n",
    "            group = min_index\n",
    "        graph.nodes[node]['group']=group\n",
    "    return dict_\n",
    "        \n",
    "        \n",
    "\n",
    "   "
   ]
  },
  {
   "cell_type": "code",
   "execution_count": 19,
   "metadata": {},
   "outputs": [
    {
     "data": {
      "application/vnd.jupyter.widget-view+json": {
       "model_id": "81afc9ee41ed4eb0ad843a735ea39950",
       "version_major": 2,
       "version_minor": 0
      },
      "text/plain": [
       "HBox(children=(FloatProgress(value=0.0, description='Computing transition probabilities', max=1145.0, style=Pr…"
      ]
     },
     "metadata": {},
     "output_type": "display_data"
    },
    {
     "name": "stdout",
     "output_type": "stream",
     "text": [
      "\n",
      "-------------\n",
      "cellulose\n",
      "-------------\n",
      "sludge\n",
      "-------------\n",
      "plant\n",
      "-------------\n",
      "waste\n",
      "-------------\n",
      "phosphate\n",
      "-------------\n",
      "material\n",
      "-------------\n",
      "soil\n"
     ]
    }
   ],
   "source": [
    "topics = [\n",
    " 'cellulose',\n",
    " 'sludge',\n",
    " 'plant',\n",
    " 'waste',\n",
    " 'phosphate',\n",
    " 'material',\n",
    " 'soil']\n",
    "\n",
    "\n",
    "## model for distace computation \n",
    "node2vec = Node2Vec(graph,q=0.25, dimensions=20, walk_length=16, num_walks=100, workers=4)  # Use temp_folder for big graphs\n",
    "model = node2vec.fit(window=10, min_count=1, batch_words=4) \n",
    "\n",
    "\n",
    "df = get_df(graph,model,topics) \n",
    "clusters = add_communities(graph,df,topics)\n",
    "#data = json_graph.node_link_data(graph)\n",
    "\n",
    "\n",
    "\n",
    "\n",
    "# Writing a JSON file\n",
    "#with open('./data.json', 'w') as f:\n",
    " #   json.dump(data, f)"
   ]
  },
  {
   "cell_type": "code",
   "execution_count": 17,
   "metadata": {},
   "outputs": [
    {
     "name": "stdout",
     "output_type": "stream",
     "text": [
      "['mechanical', 'film', 'blend', 'property', 'characterization', 'polymer', 'nanocrystal', 'crystalline', 'hydrolysi', 'acid', 'fiber', 'biopolymer', 'nanocomposite', 'stipa', 'tenacissima', 'tensile', 'graphene', 'nanofiller', 'synergistic', 'hybrid', 'reinforcement', 'extraction', 'food', 'package', 'kcarrageenan', 'halpintsai', 'cancer', 'receptor', 'initiate', 'alkene', 'miscanthu', 'suspension', 'aqueous', 'group', 'rheologic', 'sulfate', 'shell', 'dye', 'adsorbent', 'cocoa', 'sunflower', 'oil', 'cake', 'coating', 'polyethylene', 'mapk', 'screening', 'p38', 'discovery', 'molecular', 'silico', 'inhibit', 'dock', 'physical', 'glycerol', 'plastic', 'alginate', 'bionanocomposite', 'microfiber', 'physicochemic', 'nanofibril', 'polysaccharide', 'neck', 'head', 'squamous', 'elrcxcl', 'carcinoma', 'cytokine', 'sunitinib', 'cxcr12', 'clear', 'photolatent', 'azidealkyne', 'chitosan', 'cuaac', 'cycloaddition', 'complex', 'copper', 'pls', 'alkaloid', 'carboline', 'mlr', '2dqsar', 'restoration', 'color', 'image', 'righthand', 'illpose', 'side', 'problem', 'agent', 'alfa', 'pva', 'degrade', 'state', 'absorption', 'derivative', 'metabolite', 'secondary', 'pushpull', 'microbalance', 'capacitance', 'evaluate', 'antibacterial', 'uridine', 'foam', 'ceria', 'epoxidation', 'xerogel', 'chalcone', 'hemp', 'stalk', 'lipopeptide', 'microfibril', 'blue', 'methylene', 'hydrate', 'aliphatic', 'polyester', 'process', 'polybutylene', 'filtration', 'triflate', 'bismuth', 'friedelcraft', 'modular', 'nucleoside', 'animal', 'nonhuman', 'nature', 'culture', 'cyclopeptide', 'hydrogel', 'biodegradable', 'agaragar', 'swelling', 'gelatin', 'halogenation', 'deformation', 'residual', 'relaxation', 'compression', 'imagery', 'landsat8', 'technique', 'regenerate', 'yellow', '17', '64', 'disperse', 'hplcm', 'nrpa308', 'anticancer', 'peroxide', 'abate', 'strychno', 'isoxazoline', 'isoxazole', 'nsaccharin', 'onepot', 'functional', 'magnetron', 'ionize', 'dcm', 'hipim', 'corrosion', 'nutrition', 'marketing', 'rehamna', 'psychological', 'series', 'ph', 'crosslink', 'hydrolytic', 'ethyl', 'selfheale', 'steel', 'anticorrosion', '13dipolar', 'urochloa', 'forage', 'digest', 'leucocephala', 'reservoir', 'sedimentation', 'region', 'false', 'memory', 'event', 'object', 'representation', 'shale', 'alf', 'infest', 'atlas', 'sentinel2', 'machine', 'vapor', 'deposition', 'drift', 'wet', 'nexaf', 'afm', 'azide', 'woven', 'glass', 'chop', 'prosthesis', 'mat', 'strand', 'laminate', 'structure', 'solvent', 'singlet', 'pool', 'tyre', 'char', 'invasion', 'secretion', 'formation', 'lysozyme', 'biofilm', 'killing', 'nitroreductase', 'conditions', 'styrylbenzothiazole', 'turnon', 'normoxic', 'mitochondria', 'drug', 'sulfonyl', 'deamidination', 'guanidine', 'melanoma', 'nanotube', 'gum', 'halloysite', 'guar', 'soluble', 'ftir', 'chemistry', 'carbamate', 'aerobic', 'succinate', 'pbs', 'rietveld', 'crystal', 'lacunar', 'refinement', 'apatite', 'religion', 'faith', 'creation', 'darwin']\n"
     ]
    }
   ],
   "source": [
    "print(clusters['cellulose'])"
   ]
  },
  {
   "cell_type": "code",
   "execution_count": 119,
   "metadata": {},
   "outputs": [
    {
     "data": {
      "text/plain": [
       "0.3303182125091553"
      ]
     },
     "execution_count": 119,
     "metadata": {},
     "output_type": "execute_result"
    }
   ],
   "source": [
    "model.wv.distance('material','battery')"
   ]
  },
  {
   "cell_type": "code",
   "execution_count": null,
   "metadata": {},
   "outputs": [],
   "source": []
  }
 ],
 "metadata": {
  "kernelspec": {
   "display_name": "Python 3",
   "language": "python",
   "name": "python3"
  },
  "language_info": {
   "codemirror_mode": {
    "name": "ipython",
    "version": 3
   },
   "file_extension": ".py",
   "mimetype": "text/x-python",
   "name": "python",
   "nbconvert_exporter": "python",
   "pygments_lexer": "ipython3",
   "version": "3.8.3"
  }
 },
 "nbformat": 4,
 "nbformat_minor": 4
}
