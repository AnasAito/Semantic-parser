{
 "cells": [
  {
   "cell_type": "code",
   "execution_count": 1,
   "metadata": {},
   "outputs": [],
   "source": [
    "def export_graph(graph_dict):\n",
    "    data = json_graph.node_link_data(graph_dict['graph'])\n",
    "    formated_title = graph_dict['title'].replace('/', '')\n",
    "    path = './graph-ui/src/data/'+formated_title+'.json'\n",
    "    with open(path, 'w') as outfile:\n",
    "        json.dump(data, outfile)\n",
    "    \n",
    "def write_title(title):\n",
    "    formated_title = title.replace('/', '')\n",
    "    with open('./graph-ui/src/data/index.json') as json_file:\n",
    "        data = json.load(json_file)\n",
    "       ## print(data['graphs'])\n",
    "        list_ = data['graphs']\n",
    "    with open('./graph-ui/src/data/index.json','w') as json_file:\n",
    "    \n",
    "        list_ = list_+[formated_title]    \n",
    "        json.dump({'graphs':list_}, json_file) \n",
    "    return 'written'\n",
    "def write_graph(graph,title,export=True):\n",
    "    ## write to db             \n",
    "    if export : \n",
    "        export_graph({'title':title, 'graph':graph})\n",
    "        write_title(title)\n",
    "    return 'written' \n",
    "def plot_graph(graph):\n",
    "    pl.figure()\n",
    "    nx.draw_networkx(graph)\n",
    "    pl.show()   "
   ]
  },
  {
   "cell_type": "code",
   "execution_count": null,
   "metadata": {},
   "outputs": [],
   "source": []
  }
 ],
 "metadata": {
  "kernelspec": {
   "display_name": "Python 3",
   "language": "python",
   "name": "python3"
  },
  "language_info": {
   "codemirror_mode": {
    "name": "ipython",
    "version": 3
   },
   "file_extension": ".py",
   "mimetype": "text/x-python",
   "name": "python",
   "nbconvert_exporter": "python",
   "pygments_lexer": "ipython3",
   "version": "3.8.3"
  }
 },
 "nbformat": 4,
 "nbformat_minor": 4
}
